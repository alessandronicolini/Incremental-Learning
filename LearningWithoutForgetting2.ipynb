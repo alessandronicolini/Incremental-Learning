{
  "nbformat": 4,
  "nbformat_minor": 0,
  "metadata": {
    "colab": {
      "name": "Copy of LearningWithoutForgetting.ipynb",
      "provenance": [],
      "include_colab_link": true
    },
    "kernelspec": {
      "name": "python3",
      "display_name": "Python 3"
    },
    "accelerator": "GPU"
  },
  "cells": [
    {
      "cell_type": "markdown",
      "metadata": {
        "id": "view-in-github",
        "colab_type": "text"
      },
      "source": [
        "<a href=\"https://colab.research.google.com/github/alessandronicolini/IncrementalLearning/blob/main/LearningWithoutForgetting2.ipynb\" target=\"_parent\"><img src=\"https://colab.research.google.com/assets/colab-badge.svg\" alt=\"Open In Colab\"/></a>"
      ]
    },
    {
      "cell_type": "code",
      "metadata": {
        "colab": {
          "base_uri": "https://localhost:8080/"
        },
        "id": "t9nP5BV_m16C",
        "outputId": "a83f901f-3f7f-42f0-cd66-0ed9220f5467"
      },
      "source": [
        "# upload work files from your git hub repository\n",
        "import sys\n",
        "\n",
        "!git clone https://github.com/alessandronicolini/IncrementalLearning.git # clone proj repository\n",
        "!rm -rf IncrementalLearning/README.md \n",
        "!rm -rf IncrementalLearning/baselines.ipynb\n",
        "\n",
        "path = 'IncrementalLearning/'\n",
        "if path not in sys.path:\n",
        "    sys.path.append('IncrementalLearning/')\n",
        "\n",
        "!pip3 install import_ipynb"
      ],
      "execution_count": 73,
      "outputs": [
        {
          "output_type": "stream",
          "text": [
            "fatal: destination path 'IncrementalLearning' already exists and is not an empty directory.\n",
            "Requirement already satisfied: import_ipynb in /usr/local/lib/python3.6/dist-packages (0.1.3)\n"
          ],
          "name": "stdout"
        }
      ]
    },
    {
      "cell_type": "code",
      "metadata": {
        "id": "R41rvWGamroV"
      },
      "source": [
        "import torch\n",
        "import os\n",
        "import torch.nn as nn\n",
        "from torch.utils.data import Subset, DataLoader\n",
        "import torch.optim as optim\n",
        "from torchvision import transforms\n",
        "import numpy as np\n",
        "import import_ipynb\n",
        "import copy\n",
        "import pickle\n",
        "import pandas as pd\n",
        "# project classes --------------------------------------------------------------\n",
        "from IncrementalLearning.cifar100 import ilCIFAR100\n",
        "from resnet_cifar import resnet32"
      ],
      "execution_count": 74,
      "outputs": []
    },
    {
      "cell_type": "code",
      "metadata": {
        "id": "yD1W9sXOnEHg"
      },
      "source": [
        "class lwf(nn.Module):\n",
        "  def __init__(self, random_seed, batch_size):\n",
        "    super(lwf, self).__init__()\n",
        "    \n",
        "    self.batch_size = batch_size\n",
        "    self.classes_per_task = 10\n",
        "    self.num_tasks = 10\n",
        "    self.LR = 2\n",
        "    self.MOMENTUM = 0.9\n",
        "    self.WEIGHT_DECAY = 1e-5\n",
        "    self.MILESTONES = [49,63]\n",
        "    self.GAMMA = 0.2\n",
        "    self.numepochs = 2\n",
        "    self.random_seed = random_seed\n",
        "\n",
        "    self.original_training_set = ilCIFAR100(self.classes_per_task, random_seed)\n",
        "    self.original_test_set = ilCIFAR100(self.classes_per_task, random_seed, train=False)\n",
        "    \n",
        "    self.model = resnet32(num_classes=100).to('cuda')\n",
        "    self.criterion = nn.BCEWithLogitsLoss()\n",
        "    self.optimizer = optim.SGD(self.model.parameters(), lr=self.LR, momentum=self.MOMENTUM, weight_decay=self.WEIGHT_DECAY)\n",
        "    self.scheduler = optim.lr_scheduler.MultiStepLR(self.optimizer, milestones=self.MILESTONES, gamma=self.GAMMA)\n",
        "    \n",
        "    self.diz = self.original_training_set.get_dict()\n",
        "    self.task_counter = -1\n",
        "\n",
        "  def forward(self, x):\n",
        "    self.model = self.model.cuda()\n",
        "    return self.model.forward(x)\n",
        "\n",
        "  def update_parameters(self, train_dataloader):\n",
        "\n",
        "    self.task_counter += 1 # new incoming task is starting\n",
        "    old_model = copy.deepcopy(self)\n",
        "    old_model.eval()\n",
        "    old_model.to('cuda')\n",
        "\n",
        "    for epoch in range(self.numepochs):\n",
        "      for inputs,labels in train_dataloader:\n",
        "        labels = torch.tensor([torch.tensor(self.diz[c.item()]) for c in labels])\n",
        "        inputs=inputs.to('cuda')\n",
        "        labels=labels.to('cuda')\n",
        "        self.optimizer.zero_grad()\n",
        "        outputs=self.model(inputs)\n",
        "\n",
        "        new_target=torch.eye(100)[labels] \n",
        "        new_target=new_target.to('cuda')\n",
        "\n",
        "        if self.task_counter == 0:\n",
        "          loss=self.criterion(outputs,new_target)\n",
        "        else:\n",
        "          seen_classes = self.task_counter*self.classes_per_task\n",
        "          #current_classes = seen_classes + self.classes_per_task\n",
        "\n",
        "          old_target=old_model(inputs)\n",
        "          old_target=torch.sigmoid(old_target).cuda()\n",
        "          target = torch.cat((old_target[:,:seen_classes], new_target[:, seen_classes:]), dim=1)\n",
        "          loss=self.criterion(outputs,target)\n",
        "\n",
        "        loss.backward()\n",
        "        self.optimizer.step()\n",
        "      self.scheduler.step()\n",
        "\n",
        "        \n",
        "  # deep copy the model\n",
        "  def train_model(self):\n",
        "    \n",
        "    train_indices = self.original_training_set.get_batch_indexes()\n",
        "    test_indices = self.original_test_set.get_batch_indexes()\n",
        "    current_test_indexes=[]\n",
        "  \n",
        "    accuracy = 0 \n",
        "    test_acc = []\n",
        "\n",
        "    for i in range(self.num_tasks):\n",
        "      train_dataset = Subset(self.original_training_set,train_indices[i])\n",
        "      current_test_indexes += test_indices[i].tolist()\n",
        "      test_dataset = Subset(self.original_test_set,current_test_indexes)\n",
        "      train_dataloader = DataLoader(train_dataset, batch_size=self.batch_size, shuffle=False)# shuffle=True)\n",
        "      test_dataloader = DataLoader(test_dataset, batch_size=self.batch_size, shuffle=False)#shuffle=True)        \n",
        "      self.train()\n",
        "      self.update_parameters(train_dataloader)\n",
        "      self.train(False) # Set Network to evaluation mode\n",
        "      running_corrects = 0\n",
        "      for inputs, labels in test_dataloader:\n",
        "          labels = torch.tensor([torch.tensor(self.diz[c.item()]) for c in labels])\n",
        "          inputs = inputs.to('cuda')\n",
        "          labels = labels.to('cuda')\n",
        "          outputs = self.model(inputs)\n",
        "          _, preds = torch.max(outputs.data, 1)\n",
        "          running_corrects += torch.sum(preds == labels.data).data.item()\n",
        "      accuracy = running_corrects / float(len(test_dataloader.dataset))\n",
        "      print('task %d\\tTest Accuracy: %.2f' % (i, 100.0 * accuracy))\n",
        "      print('-' * 80)\n",
        "      test_acc.append(accuracy)\n",
        "\n",
        "    with open(\"1Lwf_\"+str(self.random_seed), \"wb\") as file:\n",
        "      pickle.dump(test_acc, file, pickle.HIGHEST_PROTOCOL)\n",
        "    "
      ],
      "execution_count": 68,
      "outputs": []
    },
    {
      "cell_type": "code",
      "metadata": {
        "id": "1b6XwdKK6Kqd"
      },
      "source": [
        "SEED = [666, 404, 182]\n",
        "for i in range(3):\n",
        "  print(\"NEW RUN, seed %d\"%(SEED[i]))\n",
        "  model = lwf(batch_size = 128, random_seed = SEED[i])\n",
        "  model.train_model()"
      ],
      "execution_count": null,
      "outputs": []
    },
    {
      "cell_type": "code",
      "metadata": {
        "id": "c4QTSW-K1is5",
        "outputId": "3edf0b0a-f19b-4986-fff3-058c93327a91",
        "colab": {
          "base_uri": "https://localhost:8080/",
          "height": 322
        }
      },
      "source": [
        "import seaborn as sns\n",
        "import matplotlib.pyplot as plt\n",
        "\n",
        "test_acc = []\n",
        "for seed in SEED:\n",
        "  with open('1Lwf_'+str(seed), 'rb') as f:\n",
        "    current = pickle.load(f)\n",
        "    test_acc += current\n",
        "\n",
        "acc_dict = {'model': ['lwf' for i in range(30)], \n",
        "            'classes': [i for i in range(10,110,10)]*3,\n",
        "            'test_acc': test_acc}\n",
        "            \n",
        "acc_df = pd.DataFrame(data=acc_dict)\n",
        "\n",
        "sns.set_theme(style=\"darkgrid\")\n",
        "ax = sns.pointplot(x=\"classes\", y=\"test_acc\", hue=\"model\", data=acc_df)"
      ],
      "execution_count": 72,
      "outputs": [
        {
          "output_type": "stream",
          "text": [
            "[0.356, 0.17, 0.163, 0.12025, 0.0982, 0.09716666666666667, 0.07985714285714286, 0.0815, 0.07055555555555555, 0.0645, 0.441, 0.1915, 0.129, 0.0985, 0.093, 0.07783333333333334, 0.07271428571428572, 0.06225, 0.05677777777777778, 0.0516, 0.262, 0.095, 0.12, 0.0965, 0.0828, 0.06133333333333333, 0.059571428571428574, 0.056875, 0.05, 0.0453]\n"
          ],
          "name": "stdout"
        },
        {
          "output_type": "display_data",
          "data": {
            "image/png": "[encoded data removed]",
            "text/plain": [
              "<Figure size 432x288 with 1 Axes>"
            ]
          },
          "metadata": {
            "tags": []
          }
        }
      ]
    },
    {
      "cell_type": "code",
      "metadata": {
        "id": "2IfreRrK4s_6"
      },
      "source": [
        ""
      ],
      "execution_count": null,
      "outputs": []
    }
  ]
}