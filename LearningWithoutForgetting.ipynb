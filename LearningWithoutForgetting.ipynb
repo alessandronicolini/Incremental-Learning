{
  "nbformat": 4,
  "nbformat_minor": 0,
  "metadata": {
    "colab": {
      "name": "LearningWithoutForgetting.ipynb",
      "provenance": [],
      "authorship_tag": "ABX9TyPMb30u5rxEHRThMYi2yodE",
      "include_colab_link": true
    },
    "kernelspec": {
      "name": "python3",
      "display_name": "Python 3"
    },
    "accelerator": "GPU"
  },
  "cells": [
    {
      "cell_type": "markdown",
      "metadata": {
        "id": "view-in-github",
        "colab_type": "text"
      },
      "source": [
        "<a href=\"https://colab.research.google.com/github/alessandronicolini/IncrementalLearning/blob/main/LearningWithoutForgetting.ipynb\" target=\"_parent\"><img src=\"https://colab.research.google.com/assets/colab-badge.svg\" alt=\"Open In Colab\"/></a>"
      ]
    },
    {
      "cell_type": "code",
      "metadata": {
        "colab": {
          "base_uri": "https://localhost:8080/"
        },
        "id": "t9nP5BV_m16C",
        "outputId": "b2b9ab71-9e66-4e47-9921-073594e298bf"
      },
      "source": [
        "# upload work files from your git hub repository\n",
        "import sys\n",
        "\n",
        "!git clone https://github.com/alessandronicolini/IncrementalLearning.git # clone proj repository\n",
        "!rm -rf IncrementalLearning/README.md \n",
        "!rm -rf IncrementalLearning/baselines.ipynb\n",
        "\n",
        "path = 'IncrementalLearning/'\n",
        "if path not in sys.path:\n",
        "    sys.path.append('IncrementalLearning/')\n",
        "\n",
        "!pip3 install import_ipynb"
      ],
      "execution_count": 1,
      "outputs": [
        {
          "output_type": "stream",
          "text": [
            "fatal: destination path 'IncrementalLearning' already exists and is not an empty directory.\n",
            "Requirement already satisfied: import_ipynb in /usr/local/lib/python3.6/dist-packages (0.1.3)\n"
          ],
          "name": "stdout"
        }
      ]
    },
    {
      "cell_type": "code",
      "metadata": {
        "colab": {
          "base_uri": "https://localhost:8080/"
        },
        "id": "R41rvWGamroV",
        "outputId": "96eb1b8a-4703-4d1c-e3c5-9fcc6d9fb399"
      },
      "source": [
        "import torch\n",
        "import os\n",
        "import torch.nn as nn\n",
        "from torch.utils.data import Subset, DataLoader\n",
        "import torch.optim as optim\n",
        "from torchvision import transforms\n",
        "import numpy as np\n",
        "import import_ipynb\n",
        "import copy\n",
        "# project classes --------------------------------------------------------------\n",
        "from cifar100 import ilCIFAR100\n",
        "from resnet_cifar import resnet32"
      ],
      "execution_count": 2,
      "outputs": [
        {
          "output_type": "stream",
          "text": [
            "importing Jupyter notebook from cifar100.ipynb\n",
            "Files already downloaded and verified\n",
            "[60, 34, 84, 67, 85, 44, 18, 48, 1, 47, 61, 35, 82, 58, 76, 29, 71, 0, 79, 93, 56, 90, 20, 43, 26, 7, 73, 25, 9, 65, 95, 51, 11, 2, 74, 28, 96, 27, 99, 64, 70, 42, 62, 8, 98, 77, 39, 88, 10, 94, 3, 52, 68, 32, 5, 72, 38, 75, 69, 30, 40, 41, 24, 55, 91, 45, 12, 16, 22, 53, 63, 57, 31, 33, 21, 83, 49, 81, 59, 78, 97, 19, 46, 17, 36, 87, 6, 13, 14, 89, 80, 23, 86, 37, 54, 92, 50, 66, 15, 4]\n",
            "0\n",
            "1\n",
            "2\n",
            "3\n",
            "4\n",
            "5\n",
            "6\n",
            "7\n",
            "8\n",
            "9\n",
            "<class 'numpy.ndarray'>\n",
            "<class 'numpy.ndarray'>\n",
            "<class 'numpy.ndarray'>\n",
            "<class 'numpy.ndarray'>\n",
            "<class 'numpy.ndarray'>\n",
            "<class 'numpy.ndarray'>\n",
            "<class 'numpy.ndarray'>\n",
            "<class 'numpy.ndarray'>\n",
            "<class 'numpy.ndarray'>\n",
            "<class 'numpy.ndarray'>\n"
          ],
          "name": "stdout"
        }
      ]
    },
    {
      "cell_type": "code",
      "metadata": {
        "id": "yD1W9sXOnEHg"
      },
      "source": [
        "class lwf(nn.Module):\n",
        "  def __init__(self,network):\n",
        "    super(lwf, self).__init__()\n",
        "    self.model=network.to('cuda')\n",
        "    self.batch_size=128\n",
        "    self.CLASSES_PER_BATCH=10\n",
        "    self.NUM_BATCHES=10\n",
        "    self.LR=2\n",
        "    self.MOMENTUM=0.9\n",
        "    self.WEIGHT_DECAY=1e-5\n",
        "    self.MILESTONES=[49,63]\n",
        "    self.GAMMA=0.2\n",
        "    self.numepochs=70\n",
        "    self.randomseed=10\n",
        "    self.trainloader=None\n",
        "    self.testloader=None\n",
        "    self.original_training_set = ilCIFAR100(self.CLASSES_PER_BATCH,self.randomseed)\n",
        "    self.original_test_set = ilCIFAR100(self.CLASSES_PER_BATCH,self.randomseed, train=False)\n",
        "    self.criterion=nn.BCEWithLogitsLoss()\n",
        "    self.optimizer = optim.SGD(self.model.parameters(), lr=self.LR, momentum=self.MOMENTUM, weight_decay=self.WEIGHT_DECAY)\n",
        "    self.scheduler = optim.lr_scheduler.MultiStepLR(self.optimizer, milestones=self.MILESTONES, gamma=self.GAMMA)\n",
        "    self.firstbatch=1\n",
        "    self.classes_seen=0\n",
        "    self.diz = self.original_training_set.get_dict()\n",
        "  def forward(self, x):\n",
        "    self.model = self.model.cuda()\n",
        "    return self.model.forward(x)\n",
        "  def update_parameters(self):\n",
        "    old_model = copy.deepcopy(self)\n",
        "    old_model.eval()\n",
        "    old_model.to('cuda')\n",
        "    for epoch in range(self.numepochs):\n",
        "      #print(epoch)\n",
        "        \n",
        "        for inputs,labels in self.trainloader:\n",
        "          labels = torch.tensor([torch.tensor(self.diz[c.item()]) for c in labels])\n",
        "          inputs=inputs.to('cuda')\n",
        "          labels=labels.to('cuda')\n",
        "          self.optimizer.zero_grad()\n",
        "          outputs=self.model(inputs)\n",
        "\n",
        "          labels_encoded=torch.eye(100)[labels] #CAMBIARE ONE_HOT\n",
        "          labels_encoded=labels_encoded.to('cuda')\n",
        "          if self.firstbatch:\n",
        "            loss=self.criterion(outputs[:,:self.batch_size],labels_encoded)\n",
        "          else:\n",
        "            old_target=old_model(inputs)\n",
        "            old_target=torch.sigmoid(old_target).cuda()\n",
        "            target = torch.cat((old_target[:,:self.classes_seen],labels_encoded [:, self.classes_seen:self.classes_seen+self.batch_size]), dim=1)\n",
        "            loss=self.criterion(outputs[:,:self.classes_seen+self.batch_size],target)\n",
        "          loss.backward()\n",
        "          self.optimizer.step()\n",
        "        self.scheduler.step()\n",
        "\n",
        "        \n",
        "              # deep copy the model\n",
        "\n",
        "  def training_model(self):\n",
        "    \n",
        "    train_indices = self.original_training_set.get_batch_indexes()\n",
        "    test_indices = self.original_test_set.get_batch_indexes()\n",
        "    current_test_indexes=[]\n",
        "    \n",
        "    \n",
        "    acc=[]\n",
        "    accuracy=0\n",
        "    for i in range(self.NUM_BATCHES):\n",
        "  \n",
        "      train_dataset=Subset(self.original_training_set,train_indices[i])\n",
        "      current_test_indexes+=test_indices[i].tolist()\n",
        "      test_dataset=Subset(self.original_test_set,current_test_indexes)\n",
        "      self.trainloader = DataLoader(train_dataset, batch_size=self.batch_size, shuffle=True)\n",
        "      self.testloader = DataLoader(test_dataset, batch_size=self.batch_size, shuffle=True)        \n",
        "      self.train()\n",
        "      self.update_parameters()\n",
        "      print('si porco dio')\n",
        "      self.firstbatch=0\n",
        "      self.classes_seen+=10\n",
        "      self.eval() # Set Network to evaluation mode\n",
        "      running_corrects = 0\n",
        "      y_true = []\n",
        "      y_pred = []\n",
        "      for inputs, labels in self.testloader:\n",
        "          labels = torch.tensor([torch.tensor(self.diz[c.item()]) for c in labels])\n",
        "          inputs = inputs.to('cuda')\n",
        "          labels = labels.to('cuda')\n",
        "          outputs = self.model(inputs)\n",
        "          _, preds = torch.max(outputs.data, 1)\n",
        "          running_corrects += torch.sum(preds == labels.data).data.item()\n",
        "          labels=labels.detach().cpu().numpy()\n",
        "          labels=labels.tolist()\n",
        "          y_true.extend(labels)\n",
        "          preds=preds.detach().cpu().numpy()\n",
        "          y_pred_tmp = [p for p in preds]\n",
        "          y_pred.extend(y_pred_tmp)\n",
        "      accuracy = running_corrects / float(len(self.testloader.dataset))\n",
        "      print('Test Accuracy: %.2f' % (100.0 * accuracy))\n",
        "      print('-' * 80)\n",
        "      acc.append(accuracy)\n",
        "    return self\n",
        "    "
      ],
      "execution_count": 5,
      "outputs": []
    },
    {
      "cell_type": "code",
      "metadata": {
        "colab": {
          "base_uri": "https://localhost:8080/"
        },
        "id": "1b6XwdKK6Kqd",
        "outputId": "711561ee-ba8c-44e2-d90a-ebecfe028e2f"
      },
      "source": [
        "model=lwf(network=resnet32(num_classes=100)).training_model()\n"
      ],
      "execution_count": 6,
      "outputs": [
        {
          "output_type": "stream",
          "text": [
            "Files already downloaded and verified\n",
            "[73, 4, 54, 61, 99, 1, 26, 59, 62, 35, 83, 20, 98, 66, 91, 41, 9, 31, 46, 5, 53, 17, 77, 45, 48, 79, 36, 33, 58, 22, 38, 81, 78, 71, 30, 56, 75, 2, 37, 0, 15, 8, 12, 19, 34, 23, 49, 92, 88, 42, 90, 28, 27, 65, 87, 84, 96, 51, 32, 10, 14, 93, 52, 85, 95, 82, 64, 76, 80, 44, 57, 18, 11, 72, 68, 3, 24, 39, 55, 6, 47, 13, 63, 70, 7, 40, 25, 74, 89, 86, 29, 94, 67, 97, 69, 16, 43, 60, 50, 21]\n",
            "Files already downloaded and verified\n",
            "[73, 4, 54, 61, 99, 1, 26, 59, 62, 35, 83, 20, 98, 66, 91, 41, 9, 31, 46, 5, 53, 17, 77, 45, 48, 79, 36, 33, 58, 22, 38, 81, 78, 71, 30, 56, 75, 2, 37, 0, 15, 8, 12, 19, 34, 23, 49, 92, 88, 42, 90, 28, 27, 65, 87, 84, 96, 51, 32, 10, 14, 93, 52, 85, 95, 82, 64, 76, 80, 44, 57, 18, 11, 72, 68, 3, 24, 39, 55, 6, 47, 13, 63, 70, 7, 40, 25, 74, 89, 86, 29, 94, 67, 97, 69, 16, 43, 60, 50, 21]\n",
            "si porco dio\n",
            "Test Accuracy: 83.00\n",
            "--------------------------------------------------------------------------------\n",
            "si porco dio\n",
            "Test Accuracy: 54.40\n",
            "--------------------------------------------------------------------------------\n",
            "si porco dio\n",
            "Test Accuracy: 45.00\n",
            "--------------------------------------------------------------------------------\n",
            "si porco dio\n",
            "Test Accuracy: 37.97\n",
            "--------------------------------------------------------------------------------\n",
            "si porco dio\n",
            "Test Accuracy: 32.50\n",
            "--------------------------------------------------------------------------------\n",
            "si porco dio\n",
            "Test Accuracy: 29.32\n",
            "--------------------------------------------------------------------------------\n",
            "si porco dio\n",
            "Test Accuracy: 26.47\n",
            "--------------------------------------------------------------------------------\n",
            "si porco dio\n",
            "Test Accuracy: 25.10\n",
            "--------------------------------------------------------------------------------\n",
            "si porco dio\n",
            "Test Accuracy: 22.79\n",
            "--------------------------------------------------------------------------------\n",
            "si porco dio\n",
            "Test Accuracy: 22.45\n",
            "--------------------------------------------------------------------------------\n"
          ],
          "name": "stdout"
        }
      ]
    },
    {
      "cell_type": "code",
      "metadata": {
        "colab": {
          "base_uri": "https://localhost:8080/",
          "height": 162
        },
        "id": "CeWOGxlV6Rrw",
        "outputId": "ce352d45-bcfe-472b-b95c-75221ff2c624"
      },
      "source": [
        "<trainmodel=model.training()"
      ],
      "execution_count": 24,
      "outputs": [
        {
          "output_type": "error",
          "ename": "TypeError",
          "evalue": "ignored",
          "traceback": [
            "\u001b[0;31m---------------------------------------------------------------------------\u001b[0m",
            "\u001b[0;31mTypeError\u001b[0m                                 Traceback (most recent call last)",
            "\u001b[0;32m<ipython-input-24-875517b24e82>\u001b[0m in \u001b[0;36m<module>\u001b[0;34m()\u001b[0m\n\u001b[0;32m----> 1\u001b[0;31m \u001b[0mtrainmodel\u001b[0m\u001b[0;34m=\u001b[0m\u001b[0mmodel\u001b[0m\u001b[0;34m.\u001b[0m\u001b[0mtraining\u001b[0m\u001b[0;34m(\u001b[0m\u001b[0;34m)\u001b[0m\u001b[0;34m\u001b[0m\u001b[0;34m\u001b[0m\u001b[0m\n\u001b[0m",
            "\u001b[0;31mTypeError\u001b[0m: 'bool' object is not callable"
          ]
        }
      ]
    },
    {
      "cell_type": "code",
      "metadata": {
        "id": "uPHXgeDP7jWC"
      },
      "source": [
        ""
      ],
      "execution_count": null,
      "outputs": []
    }
  ]
}