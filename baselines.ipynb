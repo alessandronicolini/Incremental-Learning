{
  "nbformat": 4,
  "nbformat_minor": 0,
  "metadata": {
    "colab": {
      "name": "baselines.ipynb",
      "provenance": [],
      "collapsed_sections": [],
      "include_colab_link": true
    },
    "kernelspec": {
      "name": "python3",
      "display_name": "Python 3"
    },
    "accelerator": "GPU"
  },
  "cells": [
    {
      "cell_type": "markdown",
      "metadata": {
        "id": "view-in-github",
        "colab_type": "text"
      },
      "source": [
        "<a href=\"https://colab.research.google.com/github/alessandronicolini/IncrementalLearning/blob/main/baselines.ipynb\" target=\"_parent\"><img src=\"https://colab.research.google.com/assets/colab-badge.svg\" alt=\"Open In Colab\"/></a>"
      ]
    },
    {
      "cell_type": "markdown",
      "metadata": {
        "id": "hOXnxAapLbVU"
      },
      "source": [
        "Import project files files from github \n"
      ]
    },
    {
      "cell_type": "code",
      "metadata": {
        "id": "pbdul6vvZiSE",
        "colab": {
          "base_uri": "https://localhost:8080/"
        },
        "outputId": "bbaa79be-bc08-48d2-a8b8-27fafa923dff"
      },
      "source": [
        "# upload work files from your git hub repository\n",
        "import sys\n",
        "\n",
        "!git clone https://github.com/alessandronicolini/IncrementalLearning.git # clone proj repository\n",
        "!rm -rf IncrementalLearning/README.md \n",
        "!rm -rf IncrementalLearning/baselines.ipynb\n",
        "\n",
        "path = 'IncrementalLearning/'\n",
        "if path not in sys.path:\n",
        "    sys.path.append('IncrementalLearning/')"
      ],
      "execution_count": 1,
      "outputs": [
        {
          "output_type": "stream",
          "text": [
            "fatal: destination path 'IncrementalLearning' already exists and is not an empty directory.\n"
          ],
          "name": "stdout"
        }
      ]
    },
    {
      "cell_type": "markdown",
      "metadata": {
        "id": "a4jIc1PVTNP_"
      },
      "source": [
        "import libraries\n"
      ]
    },
    {
      "cell_type": "code",
      "metadata": {
        "id": "sufg5mojTQ3r"
      },
      "source": [
        "import torch\n",
        "import os\n",
        "import torch.nn as nn\n",
        "from torch.utils.data import Subset, DataLoader\n",
        "import torch.optim as optim\n",
        "from torchvision import transforms\n",
        "import numpy as np\n",
        "\n",
        "# project classes --------------------------------------------------------------\n",
        "from dataset.ilcifar100 import ilCIFAR100\n",
        "from baselines.resnet import resnet32\n",
        "from info_recorder.info_log import InfoLog\n",
        "from models_benchmark.benchmark import Benchmark"
      ],
      "execution_count": 2,
      "outputs": []
    },
    {
      "cell_type": "markdown",
      "metadata": {
        "id": "5MbZh4btZAL0"
      },
      "source": [
        "Initial setup"
      ]
    },
    {
      "cell_type": "code",
      "metadata": {
        "id": "n8WFt77-NOFj"
      },
      "source": [
        "# Define params\n",
        "\n",
        "NUM_RUN = 3\n",
        "SEEDS = [1,2,3]\n",
        "NUM_EPOCHS = 70\n",
        "BATCH_SIZE = 64\n",
        "NUM_CLASS_BATCH = 10\n",
        "DEVICE = 'cuda'\n",
        "\n",
        "WEIGHT_DECAY = 1e-5\n",
        "LR = 2\n",
        "MOMENTUM = 0.9\n",
        "MILESTONES = [49, 63]\n",
        "GAMMA = 0.2\n",
        "\n",
        "SAVINGS_DIR = \"savings\"\n",
        "# Create savings folder\n",
        "try:\n",
        "    os.mkdir(SAVINGS_DIR)\n",
        "except FileExistsError:\n",
        "    pass"
      ],
      "execution_count": 3,
      "outputs": []
    },
    {
      "cell_type": "markdown",
      "metadata": {
        "id": "7oxC1KcPZHTC"
      },
      "source": [
        "Define transforms"
      ]
    },
    {
      "cell_type": "code",
      "metadata": {
        "id": "sVaFpW0UFjgC"
      },
      "source": [
        "# Define transformations for training\n",
        "train_transform = transforms.Compose([transforms.RandomCrop(32, padding=4),\n",
        "                                      transforms.RandomHorizontalFlip(),\n",
        "                                      transforms.ToTensor(), # Turn PIL Image to torch.Tensor\n",
        "                                      transforms.Normalize((0.5, 0.5, 0.5), (0.5, 0.5, 0.5))\n",
        "])\n",
        "\n",
        "# Define transformations for evaluation\n",
        "test_transform = transforms.Compose([transforms.ToTensor(),\n",
        "                                     transforms.Normalize((0.5, 0.5, 0.5), (0.5, 0.5, 0.5))                                    \n",
        "])"
      ],
      "execution_count": 4,
      "outputs": []
    },
    {
      "cell_type": "markdown",
      "metadata": {
        "id": "L_Blk7veRWwY"
      },
      "source": [
        "Prepare dataloders for each train, val test subset of the original dataset"
      ]
    },
    {
      "cell_type": "code",
      "metadata": {
        "id": "NyUjA03BRQsH",
        "colab": {
          "base_uri": "https://localhost:8080/"
        },
        "outputId": "f7bd9cd5-e9f5-48b0-a79e-aba7b89bb5c8"
      },
      "source": [
        "# dataloaders dict initialization\n",
        "dataloaders = {run:{batch:{'train':None, 'val':None, 'test':None} for batch in range(NUM_CLASS_BATCH)} for run in range(NUM_RUN)}\n",
        "\n",
        "# make dataloaders\n",
        "for run in range(NUM_RUN):\n",
        "    \n",
        "    # download dataset only on the first run\n",
        "    download = True\n",
        "    if run != 0:\n",
        "        download = False\n",
        "    \n",
        "    original_training_set = ilCIFAR100(root=\"cifar\", seed=SEEDS[run], transform=train_transform, download=download)\n",
        "    original_test_set = ilCIFAR100(root=\"cifar\", train=False, seed=SEEDS[run], transform=test_transform, download=download)\n",
        "    \n",
        "    for class_batch in range(NUM_CLASS_BATCH):\n",
        "        \n",
        "        # get indices\n",
        "        train_indices = original_training_set.batches[class_batch]['train']\n",
        "        val_indices = original_training_set.batches[class_batch]['val']\n",
        "        # test indices are the uninion of test indices of batches seen up to now\n",
        "        test_indices = []\n",
        "        for i in range(class_batch+1):\n",
        "            test_indices += original_test_set.batches[i]\n",
        "\n",
        "        # make subsets\n",
        "        train_set = Subset(dataset=original_training_set, indices=train_indices)\n",
        "        val_set = Subset(dataset=original_training_set, indices=val_indices)\n",
        "        test_set = Subset(dataset=original_test_set, indices=test_indices)\n",
        "\n",
        "        # make dataloaders\n",
        "        train_dataloader = DataLoader(train_set, batch_size=BATCH_SIZE, shuffle=True)\n",
        "        val_dataloader = DataLoader(val_set, batch_size=BATCH_SIZE, shuffle=True)\n",
        "        test_dataloader = DataLoader(test_set, batch_size=BATCH_SIZE, shuffle=True)\n",
        "\n",
        "        # add dataloaders to the dataloaders dict\n",
        "        dataloaders[run][class_batch]['train'] = train_dataloader\n",
        "        dataloaders[run][class_batch]['val'] = val_dataloader\n",
        "        dataloaders[run][class_batch]['test'] = test_dataloader"
      ],
      "execution_count": 5,
      "outputs": [
        {
          "output_type": "stream",
          "text": [
            "Files already downloaded and verified\n",
            "Files already downloaded and verified\n"
          ],
          "name": "stdout"
        }
      ]
    },
    {
      "cell_type": "code",
      "metadata": {
        "id": "IsYAMeA9Cb1b",
        "colab": {
          "base_uri": "https://localhost:8080/"
        },
        "outputId": "ade1a187-9f04-4238-c2a1-75831dbc3e02"
      },
      "source": [
        "for run in range(NUM_RUN):\n",
        "    benchmark = Benchmark(\n",
        "        num_epochs=NUM_EPOCHS, \n",
        "        dataloaders=dataloaders,\n",
        "        batch_size=BATCH_SIZE,\n",
        "        saving_folder=\"savings/fine_tuning\")\n",
        "    \n",
        "    benchmark.set_criterion(nn.CrossEntropyLoss())\n",
        "    benchmark.set_infoLog(InfoLog, run)\n",
        "    benchmark.set_model(resnet32())\n",
        "\n",
        "    for class_batch in range(NUM_CLASS_BATCH):\n",
        "        benchmark.log.new_class_batch()\n",
        "        parameters_to_optimize = benchmark.model.parameters()\n",
        "        benchmark.set_optimizer(optim.SGD(parameters_to_optimize, lr=LR, momentum=MOMENTUM, weight_decay=WEIGHT_DECAY))\n",
        "        benchmark.set_scheduler(optim.lr_scheduler.MultiStepLR(benchmark.optimizer, milestones=MILESTONES, gamma=GAMMA))\n",
        "\n",
        "        benchmark.do_class_batch(run, class_batch)\n",
        "\n",
        "        benchmark.model.add_nodes(10)"
      ],
      "execution_count": 6,
      "outputs": [
        {
          "output_type": "stream",
          "text": [
            "RUN 0 ------------------------------------------------------------------------------------\n",
            "\n",
            "\tCLASS BATCH 0\n",
            "\n",
            "\tepoch  0:    train_acc: 0.101  train_loss: 2.937  val_acc: 0.100  val_loss: 2.395\n",
            "\tepoch  1:    train_acc: 0.101  train_loss: 2.374  val_acc: 0.100  val_loss: 2.388\n",
            "\tepoch  2:    train_acc: 0.102  train_loss: 2.372  val_acc: 0.100  val_loss: 2.367\n",
            "\tepoch  3:    train_acc: 0.096  train_loss: 2.376  val_acc: 0.100  val_loss: 2.360\n",
            "\tepoch  4:    train_acc: 0.090  train_loss: 2.378  val_acc: 0.100  val_loss: 2.374\n",
            "\n",
            "\tBEST RESULTS:\tval_loss: 2.360,  val_acc: 0.100,  epoch:git push  3\n",
            "\tTEST ACC: 0.100\n",
            "\n",
            "\n",
            "\tCLASS BATCH 1\n",
            "\n",
            "\tepoch  0:    train_acc: 0.106  train_loss: 2.496  val_acc: 0.100  val_loss: 2.383\n",
            "\tepoch  1:    train_acc: 0.103  train_loss: 2.370  val_acc: 0.100  val_loss: 2.406\n",
            "\tepoch  2:    train_acc: 0.104  train_loss: 2.402  val_acc: 0.100  val_loss: 2.408\n",
            "\tepoch  3:    train_acc: 0.092  train_loss: 2.389  val_acc: 0.100  val_loss: 2.406\n",
            "\tepoch  4:    train_acc: 0.100  train_loss: 2.379  val_acc: 0.100  val_loss: 2.385\n",
            "\n",
            "\tBEST RESULTS:\tval_loss: 2.383,  val_acc: 0.100,  epoch:git push  0\n",
            "\tTEST ACC: 0.050\n",
            "\n",
            "\n",
            "\tCLASS BATCH 2\n",
            "\n",
            "\tepoch  0:    train_acc: 0.089  train_loss: 3.226  val_acc: 0.100  val_loss: 2.407\n",
            "\tepoch  1:    train_acc: 0.093  train_loss: 2.370  val_acc: 0.100  val_loss: 2.354\n",
            "\tepoch  2:    train_acc: 0.099  train_loss: 2.382  val_acc: 0.100  val_loss: 2.406\n",
            "\tepoch  3:    train_acc: 0.102  train_loss: 2.416  val_acc: 0.100  val_loss: 2.386\n",
            "\tepoch  4:    train_acc: 0.101  train_loss: 2.402  val_acc: 0.100  val_loss: 2.443\n",
            "\n",
            "\tBEST RESULTS:\tval_loss: 2.354,  val_acc: 0.100,  epoch:git push  1\n",
            "\tTEST ACC: 0.033\n",
            "\n",
            "\n",
            "\tCLASS BATCH 3\n",
            "\n",
            "\tepoch  0:    train_acc: 0.084  train_loss: 3.934  val_acc: 0.100  val_loss: 2.392\n",
            "\tepoch  1:    train_acc: 0.105  train_loss: 2.395  val_acc: 0.100  val_loss: 2.411\n",
            "\tepoch  2:    train_acc: 0.102  train_loss: 2.369  val_acc: 0.100  val_loss: 2.396\n",
            "\tepoch  3:    train_acc: 0.096  train_loss: 2.446  val_acc: 0.100  val_loss: 2.377\n",
            "\tepoch  4:    train_acc: 0.097  train_loss: 2.369  val_acc: 0.100  val_loss: 2.331\n",
            "\n",
            "\tBEST RESULTS:\tval_loss: 2.331,  val_acc: 0.100,  epoch:git push  4\n",
            "\tTEST ACC: 0.025\n",
            "\n",
            "\n",
            "\tCLASS BATCH 4\n",
            "\n",
            "\tepoch  0:    train_acc: 0.088  train_loss: 4.394  val_acc: 0.100  val_loss: 2.430\n",
            "\tepoch  1:    train_acc: 0.099  train_loss: 2.389  val_acc: 0.100  val_loss: 2.373\n",
            "\tepoch  2:    train_acc: 0.098  train_loss: 2.380  val_acc: 0.100  val_loss: 2.371\n",
            "\tepoch  3:    train_acc: 0.098  train_loss: 2.371  val_acc: 0.100  val_loss: 2.330\n",
            "\tepoch  4:    train_acc: 0.098  train_loss: 2.387  val_acc: 0.100  val_loss: 2.367\n",
            "\n",
            "\tBEST RESULTS:\tval_loss: 2.330,  val_acc: 0.100,  epoch:git push  3\n",
            "\tTEST ACC: 0.020\n",
            "\n",
            "\n",
            "\tCLASS BATCH 5\n",
            "\n",
            "\tepoch  0:    train_acc: 0.080  train_loss: 4.795  val_acc: 0.100  val_loss: 2.340\n",
            "\tepoch  1:    train_acc: 0.107  train_loss: 2.371  val_acc: 0.100  val_loss: 2.451\n",
            "\tepoch  2:    train_acc: 0.099  train_loss: 2.393  val_acc: 0.100  val_loss: 2.376\n",
            "\tepoch  3:    train_acc: 0.096  train_loss: 2.375  val_acc: 0.100  val_loss: 2.387\n",
            "\tepoch  4:    train_acc: 0.103  train_loss: 2.375  val_acc: 0.100  val_loss: 2.384\n",
            "\n",
            "\tBEST RESULTS:\tval_loss: 2.340,  val_acc: 0.100,  epoch:git push  0\n",
            "\tTEST ACC: 0.017\n",
            "\n",
            "\n",
            "\tCLASS BATCH 6\n",
            "\n",
            "\tepoch  0:    train_acc: 0.093  train_loss: 5.187  val_acc: 0.100  val_loss: 2.450\n",
            "\tepoch  1:    train_acc: 0.098  train_loss: 2.398  val_acc: 0.100  val_loss: 2.328\n",
            "\tepoch  2:    train_acc: 0.104  train_loss: 2.364  val_acc: 0.100  val_loss: 2.374\n",
            "\tepoch  3:    train_acc: 0.096  train_loss: 2.362  val_acc: 0.100  val_loss: 2.350\n",
            "\tepoch  4:    train_acc: 0.094  train_loss: 2.380  val_acc: 0.100  val_loss: 2.452\n",
            "\n",
            "\tBEST RESULTS:\tval_loss: 2.328,  val_acc: 0.100,  epoch:git push  1\n",
            "\tTEST ACC: 0.014\n",
            "\n",
            "\n",
            "\tCLASS BATCH 7\n",
            "\n",
            "\tepoch  0:    train_acc: 0.084  train_loss: 5.479  val_acc: 0.100  val_loss: 2.382\n",
            "\tepoch  1:    train_acc: 0.106  train_loss: 2.370  val_acc: 0.100  val_loss: 2.416\n",
            "\tepoch  2:    train_acc: 0.098  train_loss: 2.409  val_acc: 0.100  val_loss: 2.489\n",
            "\tepoch  3:    train_acc: 0.096  train_loss: 2.386  val_acc: 0.100  val_loss: 2.335\n",
            "\tepoch  4:    train_acc: 0.095  train_loss: 2.384  val_acc: 0.100  val_loss: 2.374\n",
            "\n",
            "\tBEST RESULTS:\tval_loss: 2.335,  val_acc: 0.100,  epoch:git push  3\n",
            "\tTEST ACC: 0.013\n",
            "\n",
            "\n",
            "\tCLASS BATCH 8\n",
            "\n",
            "\tepoch  0:    train_acc: 0.082  train_loss: 5.489  val_acc: 0.100  val_loss: 2.387\n",
            "\tepoch  1:    train_acc: 0.096  train_loss: 2.395  val_acc: 0.100  val_loss: 2.347\n",
            "\tepoch  2:    train_acc: 0.103  train_loss: 2.377  val_acc: 0.100  val_loss: 2.395\n",
            "\tepoch  3:    train_acc: 0.092  train_loss: 2.388  val_acc: 0.100  val_loss: 2.392\n",
            "\tepoch  4:    train_acc: 0.102  train_loss: 2.377  val_acc: 0.100  val_loss: 2.330\n",
            "\n",
            "\tBEST RESULTS:\tval_loss: 2.330,  val_acc: 0.100,  epoch:git push  4\n",
            "\tTEST ACC: 0.011\n",
            "\n",
            "\n",
            "\tCLASS BATCH 9\n",
            "\n",
            "\tepoch  0:    train_acc: 0.079  train_loss: 5.489  val_acc: 0.100  val_loss: 2.420\n",
            "\tepoch  1:    train_acc: 0.100  train_loss: 2.370  val_acc: 0.100  val_loss: 2.437\n",
            "\tepoch  2:    train_acc: 0.100  train_loss: 2.370  val_acc: 0.100  val_loss: 2.373\n",
            "\tepoch  3:    train_acc: 0.101  train_loss: 2.379  val_acc: 0.100  val_loss: 2.467\n",
            "\tepoch  4:    train_acc: 0.100  train_loss: 2.375  val_acc: 0.100  val_loss: 2.329\n",
            "\n",
            "\tBEST RESULTS:\tval_loss: 2.329,  val_acc: 0.100,  epoch:git push  4\n",
            "\tTEST ACC: 0.010\n",
            "\n",
            "\n",
            "RUN 1 ------------------------------------------------------------------------------------\n",
            "\n",
            "\tCLASS BATCH 0\n",
            "\n",
            "\tepoch  0:    train_acc: 0.101  train_loss: 2.849  val_acc: 0.100  val_loss: 2.378\n",
            "\tepoch  1:    train_acc: 0.102  train_loss: 2.380  val_acc: 0.100  val_loss: 2.396\n",
            "\tepoch  2:    train_acc: 0.097  train_loss: 2.373  val_acc: 0.100  val_loss: 2.412\n",
            "\tepoch  3:    train_acc: 0.107  train_loss: 2.379  val_acc: 0.100  val_loss: 2.337\n",
            "\tepoch  4:    train_acc: 0.096  train_loss: 2.362  val_acc: 0.100  val_loss: 2.319\n",
            "\n",
            "\tBEST RESULTS:\tval_loss: 2.319,  val_acc: 0.100,  epoch:git push  4\n",
            "\tTEST ACC: 0.100\n",
            "\n",
            "\n",
            "\tCLASS BATCH 1\n",
            "\n",
            "\tepoch  0:    train_acc: 0.105  train_loss: 2.518  val_acc: 0.100  val_loss: 2.398\n",
            "\tepoch  1:    train_acc: 0.102  train_loss: 2.389  val_acc: 0.100  val_loss: 2.395\n",
            "\tepoch  2:    train_acc: 0.102  train_loss: 2.373  val_acc: 0.100  val_loss: 2.359\n",
            "\tepoch  3:    train_acc: 0.092  train_loss: 2.383  val_acc: 0.100  val_loss: 2.354\n",
            "\tepoch  4:    train_acc: 0.102  train_loss: 2.398  val_acc: 0.100  val_loss: 2.337\n",
            "\n",
            "\tBEST RESULTS:\tval_loss: 2.337,  val_acc: 0.100,  epoch:git push  4\n",
            "\tTEST ACC: 0.050\n",
            "\n",
            "\n",
            "\tCLASS BATCH 2\n",
            "\n",
            "\tepoch  0:    train_acc: 0.080  train_loss: 3.205  val_acc: 0.100  val_loss: 2.375\n",
            "\tepoch  1:    train_acc: 0.100  train_loss: 2.376  val_acc: 0.100  val_loss: 2.347\n",
            "\tepoch  2:    train_acc: 0.103  train_loss: 2.386  val_acc: 0.100  val_loss: 2.377\n",
            "\tepoch  3:    train_acc: 0.099  train_loss: 2.389  val_acc: 0.100  val_loss: 2.406\n",
            "\tepoch  4:    train_acc: 0.102  train_loss: 2.365  val_acc: 0.100  val_loss: 2.349\n",
            "\n",
            "\tBEST RESULTS:\tval_loss: 2.347,  val_acc: 0.100,  epoch:git push  1\n",
            "\tTEST ACC: 0.033\n",
            "\n",
            "\n",
            "\tCLASS BATCH 3\n",
            "\n",
            "\tepoch  0:    train_acc: 0.088  train_loss: 3.818  val_acc: 0.100  val_loss: 2.373\n",
            "\tepoch  1:    train_acc: 0.103  train_loss: 2.380  val_acc: 0.100  val_loss: 2.438\n",
            "\tepoch  2:    train_acc: 0.097  train_loss: 2.382  val_acc: 0.100  val_loss: 2.414\n",
            "\tepoch  3:    train_acc: 0.096  train_loss: 2.363  val_acc: 0.100  val_loss: 2.364\n",
            "\tepoch  4:    train_acc: 0.098  train_loss: 2.380  val_acc: 0.100  val_loss: 2.401\n",
            "\n",
            "\tBEST RESULTS:\tval_loss: 2.364,  val_acc: 0.100,  epoch:git push  3\n",
            "\tTEST ACC: 0.025\n",
            "\n",
            "\n",
            "\tCLASS BATCH 4\n",
            "\n",
            "\tepoch  0:    train_acc: 0.083  train_loss: 4.378  val_acc: 0.100  val_loss: 2.428\n",
            "\tepoch  1:    train_acc: 0.104  train_loss: 2.412  val_acc: 0.100  val_loss: 2.322\n",
            "\tepoch  2:    train_acc: 0.100  train_loss: 2.386  val_acc: 0.100  val_loss: 2.409\n",
            "\tepoch  3:    train_acc: 0.098  train_loss: 2.383  val_acc: 0.100  val_loss: 2.411\n",
            "\tepoch  4:    train_acc: 0.099  train_loss: 2.382  val_acc: 0.100  val_loss: 2.383\n",
            "\n",
            "\tBEST RESULTS:\tval_loss: 2.322,  val_acc: 0.100,  epoch:git push  1\n",
            "\tTEST ACC: 0.020\n",
            "\n",
            "\n",
            "\tCLASS BATCH 5\n",
            "\n",
            "\tepoch  0:    train_acc: 0.080  train_loss: 4.920  val_acc: 0.100  val_loss: 2.408\n",
            "\tepoch  1:    train_acc: 0.097  train_loss: 2.382  val_acc: 0.100  val_loss: 2.367\n",
            "\tepoch  2:    train_acc: 0.091  train_loss: 2.389  val_acc: 0.100  val_loss: 2.387\n",
            "\tepoch  3:    train_acc: 0.100  train_loss: 2.408  val_acc: 0.100  val_loss: 2.358\n",
            "\tepoch  4:    train_acc: 0.104  train_loss: 2.386  val_acc: 0.100  val_loss: 2.410\n",
            "\n",
            "\tBEST RESULTS:\tval_loss: 2.358,  val_acc: 0.100,  epoch:git push  3\n",
            "\tTEST ACC: 0.017\n",
            "\n",
            "\n",
            "\tCLASS BATCH 6\n",
            "\n",
            "\tepoch  0:    train_acc: 0.084  train_loss: 5.273  val_acc: 0.100  val_loss: 2.524\n",
            "\tepoch  1:    train_acc: 0.100  train_loss: 2.378  val_acc: 0.100  val_loss: 2.428\n",
            "\tepoch  2:    train_acc: 0.100  train_loss: 2.402  val_acc: 0.100  val_loss: 2.351\n",
            "\tepoch  3:    train_acc: 0.097  train_loss: 2.372  val_acc: 0.100  val_loss: 2.377\n",
            "\tepoch  4:    train_acc: 0.097  train_loss: 2.382  val_acc: 0.100  val_loss: 2.335\n",
            "\n",
            "\tBEST RESULTS:\tval_loss: 2.335,  val_acc: 0.100,  epoch:git push  4\n",
            "\tTEST ACC: 0.014\n",
            "\n",
            "\n",
            "\tCLASS BATCH 7\n",
            "\n",
            "\tepoch  0:    train_acc: 0.080  train_loss: 5.167  val_acc: 0.100  val_loss: 2.433\n",
            "\tepoch  1:    train_acc: 0.102  train_loss: 2.389  val_acc: 0.100  val_loss: 2.411\n",
            "\tepoch  2:    train_acc: 0.104  train_loss: 2.404  val_acc: 0.100  val_loss: 2.349\n",
            "\tepoch  3:    train_acc: 0.109  train_loss: 2.381  val_acc: 0.100  val_loss: 2.389\n",
            "\tepoch  4:    train_acc: 0.095  train_loss: 2.412  val_acc: 0.100  val_loss: 2.543\n",
            "\n",
            "\tBEST RESULTS:\tval_loss: 2.349,  val_acc: 0.100,  epoch:git push  2\n",
            "\tTEST ACC: 0.013\n",
            "\n",
            "\n",
            "\tCLASS BATCH 8\n",
            "\n",
            "\tepoch  0:    train_acc: 0.078  train_loss: 5.363  val_acc: 0.100  val_loss: 2.364\n",
            "\tepoch  1:    train_acc: 0.105  train_loss: 2.370  val_acc: 0.100  val_loss: 2.413\n",
            "\tepoch  2:    train_acc: 0.092  train_loss: 2.394  val_acc: 0.100  val_loss: 2.363\n",
            "\tepoch  3:    train_acc: 0.104  train_loss: 2.379  val_acc: 0.100  val_loss: 2.446\n",
            "\tepoch  4:    train_acc: 0.094  train_loss: 2.388  val_acc: 0.100  val_loss: 2.391\n",
            "\n",
            "\tBEST RESULTS:\tval_loss: 2.363,  val_acc: 0.100,  epoch:git push  2\n",
            "\tTEST ACC: 0.011\n",
            "\n",
            "\n",
            "\tCLASS BATCH 9\n",
            "\n",
            "\tepoch  0:    train_acc: 0.078  train_loss: 5.450  val_acc: 0.100  val_loss: 2.355\n",
            "\tepoch  1:    train_acc: 0.108  train_loss: 2.393  val_acc: 0.100  val_loss: 2.351\n",
            "\tepoch  2:    train_acc: 0.097  train_loss: 2.386  val_acc: 0.100  val_loss: 2.362\n",
            "\tepoch  3:    train_acc: 0.102  train_loss: 2.390  val_acc: 0.100  val_loss: 2.371\n",
            "\tepoch  4:    train_acc: 0.108  train_loss: 2.377  val_acc: 0.100  val_loss: 2.371\n",
            "\n",
            "\tBEST RESULTS:\tval_loss: 2.351,  val_acc: 0.100,  epoch:git push  1\n",
            "\tTEST ACC: 0.010\n",
            "\n",
            "\n"
          ],
          "name": "stdout"
        }
      ]
    }
  ]
}