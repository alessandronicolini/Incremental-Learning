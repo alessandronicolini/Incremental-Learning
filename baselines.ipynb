{
  "nbformat": 4,
  "nbformat_minor": 0,
  "metadata": {
    "colab": {
      "name": "baselines.ipynb",
      "provenance": [],
      "collapsed_sections": []
    },
    "kernelspec": {
      "name": "python3",
      "display_name": "Python 3"
    }
  },
  "cells": [
    {
      "cell_type": "code",
      "metadata": {
        "id": "m65lB7fLb5_B"
      },
      "source": [
        "import torch\n",
        "from torchvision.datasets import CIFAR100\n",
        "from torchvision.datasets import VisionDataset\n",
        "import numpy as np"
      ],
      "execution_count": 1,
      "outputs": []
    }
  ]
}