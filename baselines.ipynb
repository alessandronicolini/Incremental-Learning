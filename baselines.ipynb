{
  "nbformat": 4,
  "nbformat_minor": 0,
  "metadata": {
    "colab": {
      "name": "baselines.ipynb",
      "provenance": [],
      "collapsed_sections": [],
      "include_colab_link": true
    },
    "kernelspec": {
      "name": "python3",
      "display_name": "Python 3"
    }
  },
  "cells": [
    {
      "cell_type": "markdown",
      "metadata": {
        "id": "view-in-github",
        "colab_type": "text"
      },
      "source": [
        "<a href=\"https://colab.research.google.com/github/alessandronicolini/Incremental-Learning/blob/main/baselines.ipynb\" target=\"_parent\"><img src=\"https://colab.research.google.com/assets/colab-badge.svg\" alt=\"Open In Colab\"/></a>"
      ]
    },
    {
      "cell_type": "markdown",
      "metadata": {
        "id": "hOXnxAapLbVU"
      },
      "source": [
        "import important files from github \n"
      ]
    },
    {
      "cell_type": "code",
      "metadata": {
        "id": "pbdul6vvZiSE",
        "outputId": "2766f985-bf1d-4255-ea2b-3531aecc91d3",
        "colab": {
          "base_uri": "https://localhost:8080/"
        }
      },
      "source": [
        "# upload work files from your git hub repository\n",
        "import sys\n",
        "\n",
        "!git clone https://github.com/alessandronicolini/Incremental-Learning.git # clone proj repository\n",
        "!rm -rf Incremental-Learning/README.md \n",
        "!rm -rf Incremental-Learning/baselines.ipynb\n",
        "sys.path.append('Incremental-Learning/')"
      ],
      "execution_count": null,
      "outputs": [
        {
          "output_type": "stream",
          "text": [
            "Cloning into 'Incremental-Learning'...\n",
            "remote: Enumerating objects: 41, done.\u001b[K\n",
            "remote: Counting objects: 100% (41/41), done.\u001b[K\n",
            "remote: Compressing objects: 100% (29/29), done.\u001b[K\n",
            "remote: Total 41 (delta 16), reused 25 (delta 9), pack-reused 0\u001b[K\n",
            "Unpacking objects: 100% (41/41), done.\n"
          ],
          "name": "stdout"
        }
      ]
    },
    {
      "cell_type": "markdown",
      "metadata": {
        "id": "a4jIc1PVTNP_"
      },
      "source": [
        "import libraries\n"
      ]
    },
    {
      "cell_type": "code",
      "metadata": {
        "id": "sufg5mojTQ3r"
      },
      "source": [
        "import torch\n",
        "from torch.utils.data import Subset, DataLoader\n",
        "from torchvision import transforms\n",
        "import numpy as np\n",
        "\n",
        "# project classes --------------------------------------------------------------\n",
        "from ilcifar100 import ilCIFAR100\n",
        "from resnet_cifar import resnet32"
      ],
      "execution_count": 13,
      "outputs": []
    },
    {
      "source": [
        "Define params"
      ],
      "cell_type": "markdown",
      "metadata": {}
    },
    {
      "cell_type": "code",
      "metadata": {
        "id": "n8WFt77-NOFj"
      },
      "source": [
        "NUM_RUN = 3\n",
        "SEEDS = [1,2,3]\n",
        "NUM_EPOCHS = 70\n",
        "BATCH_SIZE = 128\n",
        "NUM_CLASS_BATCH = 10"
      ],
      "execution_count": 10,
      "outputs": []
    },
    {
      "source": [
        "Define train transform and test transform"
      ],
      "cell_type": "markdown",
      "metadata": {}
    },
    {
      "cell_type": "code",
      "metadata": {
        "id": "sVaFpW0UFjgC"
      },
      "source": [
        "# Define transformations for training\n",
        "train_transform = transforms.Compose([transforms.RandomCrop(32, padding=4),\n",
        "                                      transforms.RandomHorizontalFlip(),\n",
        "                                      transforms.ToTensor(), # Turn PIL Image to torch.Tensor\n",
        "                                      transforms.Normalize((0.5, 0.5, 0.5), (0.5, 0.5, 0.5))\n",
        "])\n",
        "\n",
        "# Define transformations for evaluation\n",
        "test_transform = transforms.Compose([transforms.ToTensor(),\n",
        "                                     transforms.Normalize((0.5, 0.5, 0.5), (0.5, 0.5, 0.5))                                    \n",
        "])"
      ],
      "execution_count": 14,
      "outputs": []
    },
    {
      "cell_type": "markdown",
      "metadata": {
        "id": "L_Blk7veRWwY"
      },
      "source": [
        "Prepare dataloders "
      ]
    },
    {
      "cell_type": "code",
      "metadata": {
        "id": "NyUjA03BRQsH",
        "outputId": "72bf1d21-455d-460f-faf1-1f9f829e900b",
        "colab": {
          "base_uri": "https://localhost:8080/"
        }
      },
      "source": [
        "# dataloaders dict initialization\n",
        "dataloaders = {run:{batch:{'train':None, 'val':None, 'test':None} for batch in range(NUM_CLASS_BATCH)} for run in range(NUM_RUN)}\n",
        "\n",
        "# make dataloaders\n",
        "for run in range(NUM_RUN):\n",
        "    \n",
        "    original_training_set = ilCIFAR100(root=\"dataset\", seed=SEEDS[run], transform = train_transform)\n",
        "    original_test_set = ilCIFAR100(root=\"dataset\", seed=SEEDS[run], transform=test_transform)\n",
        "    \n",
        "    for class_batch in range(NUM_CLASS_BATCH):\n",
        "        \n",
        "        # get indices\n",
        "        train_indices = original_training_set.batches[class_batch]['train']\n",
        "        val_indices = original_training_set.batches[class_batch]['val']\n",
        "        test_indices = original_test_set.batches[class_batch]\n",
        "\n",
        "        # make subsets\n",
        "        train_set = Subset(dataset=original_training, indices=train_indices)\n",
        "        val_set = Subset(dataset=original_training, indices=val_indices)\n",
        "        test_set = Subset(dataset=original_test, indices=test_indices)\n",
        "\n",
        "        # make dataloaders\n",
        "        train_dataloader = DataLoader(train_set, batch_size=BATCH_SIZE, shuffle=True, num_workers=4)\n",
        "        val_dataloader = DataLoader(val_set, batch_size=BATCH_SIZE, shuffle=True, num_workers=4)\n",
        "        train_dataloader = DataLoader(test_set, batch_size=BATCH_SIZE, shuffle=True, num_workers=4)\n",
        "\n",
        "        # update dataloaders dict\n",
        "        dataloaders[run][class_batch]['train'] = train_dataloader\n",
        "        dataloaders[run][class_batch]['val'] = val_dataloader\n",
        "        dataloaders[run][class_batch]['test'] = test_dataloader"
      ],
      "execution_count": 15,
      "outputs": [
        {
          "output_type": "stream",
          "text": [
            "Files already downloaded and verified\n",
            "Files already downloaded and verified\n",
            "Files already downloaded and verified\n",
            "Files already downloaded and verified\n",
            "Files already downloaded and verified\n",
            "Files already downloaded and verified\n"
          ],
          "name": "stdout"
        }
      ]
    },
    {
      "source": [
        "FINE TUNING "
      ],
      "cell_type": "markdown",
      "metadata": {}
    },
    {
      "cell_type": "code",
      "metadata": {
        "id": "IsYAMeA9Cb1b"
      },
      "source": [
        "!rm -r Incremental-Learning/"
      ],
      "execution_count": null,
      "outputs": []
    }
  ]
}