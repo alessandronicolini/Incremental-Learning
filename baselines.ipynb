{
  "nbformat": 4,
  "nbformat_minor": 0,
  "metadata": {
    "colab": {
      "name": "baselines.ipynb",
      "provenance": [],
      "collapsed_sections": [],
      "include_colab_link": true
    },
    "kernelspec": {
      "name": "python3",
      "display_name": "Python 3"
    }
  },
  "cells": [
    {
      "cell_type": "markdown",
      "metadata": {
        "id": "view-in-github",
        "colab_type": "text"
      },
      "source": [
        "<a href=\"https://colab.research.google.com/github/alessandronicolini/Incremental-Learning/blob/main/baselines.ipynb\" target=\"_parent\"><img src=\"https://colab.research.google.com/assets/colab-badge.svg\" alt=\"Open In Colab\"/></a>"
      ]
    },
    {
      "cell_type": "markdown",
      "metadata": {
        "id": "hOXnxAapLbVU"
      },
      "source": [
        "setup to import important files from google drive or from github \n"
      ]
    },
    {
      "cell_type": "code",
      "metadata": {
        "id": "i6y5HJY-Zdew"
      },
      "source": [
        "# upload work files from your google drive account\n",
        "\n",
        "from google.colab import drive\n",
        "import sys\n",
        "\n",
        "drive.mount('/content/gdrive')\n",
        "gdrive_path = 'Colab Notebooks/Incremental-Learning' # change according your google drive proj dir path\n",
        "sys.path.append('/content/gdrive/My Drive/'+ gdrive_path) # update paths list where 'import' command searches for elements"
      ],
      "execution_count": null,
      "outputs": []
    },
    {
      "cell_type": "code",
      "metadata": {
        "id": "pbdul6vvZiSE"
      },
      "source": [
        "# upload work files from your git hub repository\n",
        "import sys\n",
        "\n",
        "!git clone https://github.com/alessandronicolini/Incremental-Learning.git # clone proj repository\n",
        "!rm -rf Incremental-Learning/README.md \n",
        "!rm -rf Incremental-Learning/baselines.ipynb\n",
        "sys.path.append('Incremental-Learning/')"
      ],
      "execution_count": null,
      "outputs": []
    },
    {
      "cell_type": "markdown",
      "metadata": {
        "id": "a4jIc1PVTNP_"
      },
      "source": [
        "import libraries\n"
      ]
    },
    {
      "cell_type": "code",
      "metadata": {
        "id": "sufg5mojTQ3r"
      },
      "source": [
        "import torch\n",
        "import numpy as np\n",
        "\n",
        "# project classes --------------------------------------------------------------\n",
        "from ilCIFAR100 import ilCIFAR100\n",
        "from resnet_cifar import resnet32\n"
      ],
      "execution_count": 19,
      "outputs": []
    }
  ]
}